{
 "cells": [
  {
   "cell_type": "code",
   "execution_count": null,
   "id": "2ab6aa5e",
   "metadata": {
    "vscode": {
     "languageId": "plaintext"
    }
   },
   "outputs": [],
   "source": [
    "telegram_bot_project/\n",
    "├── bot.py\n",
    "├── commands/\n",
    "│   ├── __init__.py\n",
    "│   ├── query_handler.py\n",
    "├── data/\n",
    "│   └── df_total.csv\n",
    "├── .env\n",
    "├── requirements.txt"
   ]
  },
  {
   "cell_type": "markdown",
   "id": "9c15228f",
   "metadata": {},
   "source": [
    "telegram_bot_project/\n",
    "├── bot.py\n",
    "├── commands/\n",
    "│   ├── __init__.py\n",
    "│   ├── query_handler.py\n",
    "├── data/\n",
    "│   └── df_total.csv\n",
    "├── .env\n",
    "├── requirements.txt"
   ]
  }
 ],
 "metadata": {
  "language_info": {
   "name": "python"
  }
 },
 "nbformat": 4,
 "nbformat_minor": 5
}
